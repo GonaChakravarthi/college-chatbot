{
  "nbformat": 4,
  "nbformat_minor": 0,
  "metadata": {
    "colab": {
      "provenance": []
    },
    "kernelspec": {
      "name": "python3",
      "display_name": "Python 3"
    },
    "language_info": {
      "name": "python"
    }
  },
  "cells": [
    {
      "cell_type": "code",
      "execution_count": null,
      "metadata": {
        "colab": {
          "base_uri": "https://localhost:8080/"
        },
        "id": "QJ7shChM8WUl",
        "outputId": "52ff1499-3cf1-4c15-fa7a-3697b09cd08c"
      },
      "outputs": [
        {
          "output_type": "stream",
          "name": "stdout",
          "text": [
            "Requirement already satisfied: opencv-python in /usr/local/lib/python3.11/dist-packages (4.12.0.88)\n",
            "Requirement already satisfied: matplotlib in /usr/local/lib/python3.11/dist-packages (3.10.0)\n",
            "Requirement already satisfied: numpy<2.3.0,>=2 in /usr/local/lib/python3.11/dist-packages (from opencv-python) (2.0.2)\n",
            "Requirement already satisfied: contourpy>=1.0.1 in /usr/local/lib/python3.11/dist-packages (from matplotlib) (1.3.2)\n",
            "Requirement already satisfied: cycler>=0.10 in /usr/local/lib/python3.11/dist-packages (from matplotlib) (0.12.1)\n",
            "Requirement already satisfied: fonttools>=4.22.0 in /usr/local/lib/python3.11/dist-packages (from matplotlib) (4.59.0)\n",
            "Requirement already satisfied: kiwisolver>=1.3.1 in /usr/local/lib/python3.11/dist-packages (from matplotlib) (1.4.8)\n",
            "Requirement already satisfied: packaging>=20.0 in /usr/local/lib/python3.11/dist-packages (from matplotlib) (25.0)\n",
            "Requirement already satisfied: pillow>=8 in /usr/local/lib/python3.11/dist-packages (from matplotlib) (11.3.0)\n",
            "Requirement already satisfied: pyparsing>=2.3.1 in /usr/local/lib/python3.11/dist-packages (from matplotlib) (3.2.3)\n",
            "Requirement already satisfied: python-dateutil>=2.7 in /usr/local/lib/python3.11/dist-packages (from matplotlib) (2.9.0.post0)\n",
            "Requirement already satisfied: six>=1.5 in /usr/local/lib/python3.11/dist-packages (from python-dateutil>=2.7->matplotlib) (1.17.0)\n"
          ]
        }
      ],
      "source": [
        "! pip install opencv-python matplotlib\n",
        "import cv2\n",
        "import matplotlib.pyplot as plt"
      ]
    },
    {
      "cell_type": "code",
      "source": [
        "def get_response(user_input):\n",
        "    # Convert input to lowercase\n",
        "    text = user_input.lower()\n",
        "    # Keyword-based responses\n",
        "    if \"exam\" in text:\n",
        "        return \"Exams begin on September 21st. Check your student portal for details.\"\n",
        "    elif \"hostel\" in text:\n",
        "        return \"Hostel registration opens August 1st on the student portal.\"\n",
        "    elif \"fee\" in text:\n",
        "        return \"Semester fees are due by September 10th.\"\n",
        "    elif \"scholarship\" in text:\n",
        "        return \"Scholarship applications close on August 15th.\"\n",
        "    else:\n",
        "        return \"I'm not sure about that. Try asking about exams, hostel, fees, or scholarships.\"\n",
        "\n",
        "# Chat loop\n",
        "while True:\n",
        "    query = input(\"You: \")\n",
        "    if query.lower() in ['exit', 'quit']:\n",
        "        print(\"Bot: Goodbye!\")\n",
        "        break\n",
        "    response = get_response(query)\n",
        "    print(f\"Bot: {response}\")"
      ],
      "metadata": {
        "id": "J_OxJmto85kI",
        "colab": {
          "base_uri": "https://localhost:8080/"
        },
        "outputId": "a2552cd0-90af-450d-fe64-cf2008f5ef21"
      },
      "execution_count": 4,
      "outputs": [
        {
          "output_type": "stream",
          "name": "stdout",
          "text": [
            "You: hi\n",
            "Bot: I'm not sure about that. Try asking about exams, hostel, fees, or scholarships.\n",
            "You: fees\n",
            "Bot: Semester fees are due by September 10th.\n",
            "You: hostel\n",
            "Bot: Hostel registration opens August 1st on the student portal.\n",
            "You: semester exams\n",
            "Bot: Exams begin on September 21st. Check your student portal for details.\n",
            "You: scholarship\n",
            "Bot: Scholarship applications close on August 15th.\n",
            "You: exit\n",
            "Bot: Goodbye!\n"
          ]
        }
      ]
    },
    {
      "cell_type": "code",
      "source": [],
      "metadata": {
        "id": "zDQtLaVY85-_"
      },
      "execution_count": null,
      "outputs": []
    }
  ]
}